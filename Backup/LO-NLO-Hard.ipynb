{
 "cells": [
  {
   "cell_type": "code",
   "execution_count": 97,
   "id": "0c3e35e9",
   "metadata": {},
   "outputs": [],
   "source": [
    "import lhapdf\n",
    "import numpy as np\n",
    "import matplotlib.pyplot as plt\n",
    "from scipy.integrate import quad\n",
    "from scipy.interpolate import interp1d"
   ]
  },
  {
   "cell_type": "code",
   "execution_count": 426,
   "id": "2f216d30",
   "metadata": {
    "scrolled": true
   },
   "outputs": [
    {
     "name": "stdout",
     "output_type": "stream",
     "text": [
      "LHAPDF 6.4.0 loading /home/weiyaoke/.local/share/LHAPDF/cteq6l1/cteq6l1_0000.dat\n",
      "cteq6l1 PDF set, member #0, version 4; LHAPDF ID = 10042\n"
     ]
    }
   ],
   "source": [
    "CF = 4/3\n",
    "CA = 3\n",
    "Nc = 3\n",
    "TR = .5\n",
    "\n",
    "p = lhapdf.mkPDF(\"cteq6l1\") \n",
    "def alphas(Q2):\n",
    "    return p.alphasQ2(Q2)\n"
   ]
  },
  {
   "cell_type": "code",
   "execution_count": null,
   "id": "84903a96",
   "metadata": {},
   "outputs": [],
   "source": []
  },
  {
   "cell_type": "code",
   "execution_count": null,
   "id": "a8de6c65",
   "metadata": {},
   "outputs": [],
   "source": []
  },
  {
   "cell_type": "code",
   "execution_count": null,
   "id": "beda2fca",
   "metadata": {},
   "outputs": [],
   "source": []
  },
  {
   "cell_type": "code",
   "execution_count": 427,
   "id": "cdae4d64",
   "metadata": {},
   "outputs": [],
   "source": [
    "# LO XXX * 1/v *delta(1-w)\n",
    "# the XXX:\n",
    "\n",
    "# q+Q->q+Q\n",
    "def qQ2qQ_dv(s, v, muR2):\n",
    "    a2 = alphas(muR2)**2\n",
    "    return np.pi*a2*CF/Nc/s*(1+v**2)/(1-v)**2\n",
    "\n",
    "# Q+Qbar->q+qbar\n",
    "def QQbar2qqbar_dv(s, v, muR2):\n",
    "    a2 = alphas(muR2)**2\n",
    "    return np.pi*a2*CF/Nc/s * (2*v**2-2*v+1)\n",
    "\n",
    "# qq->qq\n",
    "def qq2qq_dv(s, v, muR2):\n",
    "    a2 = alphas(muR2)**2\n",
    "    return np.pi*a2*2*CF/Nc**2/s\\\n",
    "    * (Nc*v**4-2*Nc*v**3+(4*Nc+1)*v**2-(3*Nc+1)*v+Nc)/(1-v)**2/v**2\n",
    "\n",
    "# qqbar->qqbar\n",
    "def qqbar2qqbar_dv(s, v, muR2):\n",
    "    a2 = alphas(muR2)**2\n",
    "    return np.pi*a2*2*CF/Nc**2/s\\\n",
    "    * (Nc*v**4-(3*Nc+1)*v**3+(4*Nc+1)*v**2-2*Nc*v**2+Nc)/(1-v)**2\n",
    "\n",
    "# qg->qg\n",
    "def qg2qg_dv(s, v, muR2):\n",
    "    a2 = alphas(muR2)**2\n",
    "    return np.pi*a2/2/Nc**2/s/v/(1-v)**2\\\n",
    "        * (1+v**2)*( (Nc**2-1)*(1+v**2) + 2*v )\n",
    "\n",
    "# gg->qqbar\n",
    "def gg2qqbar_dv(s, v, muR2):\n",
    "    a2 = alphas(muR2)**2\n",
    "    return np.pi*a2/2/Nc/(Nc**2-1)/s/v/(1-v)*(v**2+(1-v)**2)\\\n",
    "        * ( Nc**2-1 - 2*Nc**2*v*(1-v) )\n",
    "\n",
    "# qqbar -> gg\n",
    "def qqbar2gg_dv(s, v, muR2):\n",
    "    a2 = alphas(muR2)**2\n",
    "    return np.pi*a2*CF/Nc**2/s*(1-2*v+2*v**2)*(Nc**2-1 - 2*Nc**2*v*(1-v))\n",
    "\n",
    "# gg -> gg\n",
    "def gg2gg_dv(s, v, muR2):\n",
    "    a2 = alphas(muR2)**2\n",
    "    return np.pi*a2*4*Nc**2/(Nc**2-1)/s*(1-v+v**2)**3/(v**2*(1-v)**2)"
   ]
  },
  {
   "cell_type": "code",
   "execution_count": null,
   "id": "e8ebcbee",
   "metadata": {},
   "outputs": [],
   "source": []
  },
  {
   "cell_type": "code",
   "execution_count": null,
   "id": "6d1ec7e8",
   "metadata": {},
   "outputs": [],
   "source": []
  },
  {
   "cell_type": "code",
   "execution_count": 428,
   "id": "3aba155b",
   "metadata": {
    "scrolled": false
   },
   "outputs": [],
   "source": [
    "# LO AB->q\n",
    "def dsigma_AB2q_pTdpT_dy_dphi(pT, y, pid, mur=1):\n",
    "    alldiff_qids = [-5,-4,-3,-2,-1,1,2,3,4,5]\n",
    "    alldiff_qids.remove(pid)\n",
    "    \n",
    "    alldiff_flavor = [1,2,3,4,5]\n",
    "    alldiff_flavor.remove(np.abs(pid))\n",
    "\n",
    "    # beam1 = ss/2, 0, 0, ss/2\n",
    "    # beam2 = ss/2, 0, 0,-ss/2\n",
    "    # the outgoing parton (set D(z)=delta(1-z))\n",
    "    # pJ = pT*chy, pT, 0, pT*shy\n",
    "    # S = (beam1+beam2)^2, \n",
    "    # T = (beam1-pJ)^2 \n",
    "    # T = (beam2-pJ)^2 \n",
    "\n",
    "    S = sqrts**2\n",
    "    T = (sqrts/2-pT*np.cosh(y))**2 - pT**2 - (sqrts/2-pT*np.sinh(y))**2\n",
    "    U = (sqrts/2-pT*np.cosh(y))**2 - pT**2 - (-sqrts/2-pT*np.sinh(y))**2\n",
    "    V = 1+T/S\n",
    "    W = -U/(S+T)\n",
    "    \n",
    "    if pT*np.cosh(y)>sqrts/2:\n",
    "        return 0\n",
    "    \n",
    "    # LO: delta(1-w) dw --> w=1\n",
    "    def df(k):\n",
    "        v = 1/(1+np.exp(-k))\n",
    "        \n",
    "        x1 = V*W/v\n",
    "        x2 = (1-V)/(1-v)\n",
    "        if x1>1 or x2>1 or x1<0 or x2<0:\n",
    "            return 0\n",
    "        s = S*x1*x2\n",
    "        muR2 = s*mur**2\n",
    "        muF2 = s*mur**2\n",
    "        \n",
    "        res = 0\n",
    "        \n",
    "        # q + Q --> q + X\n",
    "        F1F2 = p.xfxQ2(pid, x1, muF2)/x1 \\\n",
    "             * np.sum([p.xfxQ2(sid, x2, muF2)/x2 for sid in alldiff_qids])\n",
    "        ds = qQ2qQ_dv(s, v, muR2)\n",
    "        res += ds*F1F2\n",
    "        \n",
    "        # Q + q --> q + X\n",
    "        F1F2 = np.sum([p.xfxQ2(sid, x1, muF2)/x1 for sid in alldiff_qids])\\\n",
    "             * p.xfxQ2(pid, x2, muF2)/x2\n",
    "        ds = qQ2qQ_dv(s, 1-v, muR2)\n",
    "        res += ds*F1F2\n",
    "        \n",
    "        # Q + Qbar --> q + X\n",
    "        F1F2 = np.sum([p.xfxQ2(p1, x1, muF2)/x1*p.xfxQ2(-p1, x2, muF2)/x2\\\n",
    "                      +p.xfxQ2(-p1, x1, muF2)/x1*p.xfxQ2(p1, x2, muF2)/x2\\\n",
    "                       for p1 in alldiff_flavor])\n",
    "        ds = QQbar2qqbar_dv(s, v, muR2)\n",
    "        res += ds*F1F2\n",
    "        \n",
    "        # q + q --> q + X\n",
    "        F1F2 = p.xfxQ2(pid, x1, muF2)/x1*p.xfxQ2(pid, x2, muF2)/x2\n",
    "        ds = qq2qq_dv(s, v, muR2)\n",
    "        res += ds*F1F2\n",
    "        \n",
    "        # q + qbar --> q + X\n",
    "        F1F2 = p.xfxQ2(pid, x1, muF2)/x1*p.xfxQ2(-pid, x2, muF2)/x2\n",
    "        ds = qqbar2qqbar_dv(s, v, muR2)\n",
    "        res += ds*F1F2\n",
    "        \n",
    "        # q + qbar --> qbar + X\n",
    "        F1F2 = p.xfxQ2(-pid, x1, muF2)/x1*p.xfxQ2(pid, x2, muF2)/x2\n",
    "        ds = qqbar2qqbar_dv(s, 1-v, muR2)\n",
    "        res += ds*F1F2\n",
    "        \n",
    "        # q + g --> q + X\n",
    "        F1F2 = p.xfxQ2(pid, x1, muF2)/x1*p.xfxQ2(21, x2, muF2)/x2\n",
    "        ds = qg2qg_dv(s, v, muR2)\n",
    "        res += ds*F1F2\n",
    "        \n",
    "        # g + q --> q + X\n",
    "        F1F2 = p.xfxQ2(21, x1, muF2)/x1*p.xfxQ2(pid, x2, muF2)/x2\n",
    "        ds = qg2qg_dv(s, 1-v, muR2)\n",
    "        res += ds*F1F2\n",
    "        \n",
    "        # g + g --> q + X\n",
    "        F1F2 = p.xfxQ2(21, x1, muF2)/x1*p.xfxQ2(21, x2, muF2)/x2\n",
    "        ds = gg2qqbar_dv(s, v, muR2)\n",
    "        res += ds*F1F2\n",
    "        \n",
    "        return res\n",
    "    \n",
    "    vmax = V\n",
    "    vmin = V*W\n",
    "    \n",
    "    GeVm2_to_mb = 1/5.076**2/100*1000\n",
    "    return GeVm2_to_mb/np.pi/S * quad(df, np.log(vmin/(1-vmin)), np.log(vmax/(1-vmax)), epsrel=.01)[0] "
   ]
  },
  {
   "cell_type": "code",
   "execution_count": null,
   "id": "46679fd6",
   "metadata": {},
   "outputs": [],
   "source": []
  },
  {
   "cell_type": "code",
   "execution_count": 429,
   "id": "d9eb28a0",
   "metadata": {},
   "outputs": [],
   "source": [
    "# LO: AB->g\n",
    "def dsigma_AB2g_pTdpT_dy_dphi(pT, y, mur=1):    \n",
    "    qs = [-5,-4,-3,-2,-1,1,2,3,4,5]\n",
    "    fs = [1,2,3,4,5]\n",
    "\n",
    "    if pT*np.cosh(y)>sqrts/2:\n",
    "        return 0\n",
    "\n",
    "    S = sqrts**2\n",
    "    T = (sqrts/2-pT*np.cosh(y))**2 - pT**2 - (sqrts/2-pT*np.sinh(y))**2\n",
    "    U = (sqrts/2-pT*np.cosh(y))**2 - pT**2 - (-sqrts/2-pT*np.sinh(y))**2\n",
    "    V = 1+T/S\n",
    "    W = -U/(S+T)\n",
    "    \n",
    "    # LO: delta(1-w) dw --> w=1\n",
    "    def df(k):\n",
    "        v = 1/(1+np.exp(-k))\n",
    "        \n",
    "        x1 = V*W/v\n",
    "        x2 = (1-V)/(1-v)\n",
    "        \n",
    "        if x1>1 or x2>1 or x1<0 or x2<0:\n",
    "            return 0\n",
    "\n",
    "        s = S*x1*x2\n",
    "        muR2 = s*mur**2\n",
    "        muF2 = s*mur**2\n",
    "        \n",
    "        res = 0\n",
    "        \n",
    "        # g+g --> g + X\n",
    "        F1F2 = p.xfxQ2(21, x1, muF2)/x1 * p.xfxQ2(21, x2, muF2)/x2\n",
    "        ds = gg2gg_dv(s, v, muR2)\n",
    "        res += ds*F1F2\n",
    "        \n",
    "        # q+qbar --> g + X\n",
    "        F1F2 = np.sum([p.xfxQ2(pid, x1, muF2)/x1 * p.xfxQ2(-pid, x2, muF2)/x2\n",
    "                     + p.xfxQ2(-pid, x1, muF2)/x1 * p.xfxQ2(pid, x2, muF2)/x2 for pid in fs])\n",
    "        ds = qqbar2gg_dv(s, v, muR2)\n",
    "        res += ds*F1F2\n",
    "        \n",
    "        # q+g --> g + X\n",
    "        F1F2 = np.sum([p.xfxQ2(f, x1, muF2)/x1 for f in qs]) * p.xfxQ2(21, x2, muF2)/x2\n",
    "        ds = qg2qg_dv(s, 1-v, muR2)\n",
    "        res += ds*F1F2\n",
    "        \n",
    "        # g+q --> g + X\n",
    "        F1F2 = p.xfxQ2(21, x1, muF2)/x1 * np.sum([p.xfxQ2(f, x2, muF2)/x2 for f in qs])\n",
    "        ds = qg2qg_dv(s, v, muR2)\n",
    "        res += ds*F1F2\n",
    "        \n",
    "        \n",
    "        return res\n",
    "    \n",
    "    vmax = V\n",
    "    vmin = V*W\n",
    "    \n",
    "    GeVm2_to_mb = 1/5.076**2/100*1000\n",
    "    return GeVm2_to_mb/np.pi/S * quad(df, np.log(vmin/(1-vmin)), np.log(vmax/(1-vmax)), epsrel=.01)[0] "
   ]
  },
  {
   "cell_type": "code",
   "execution_count": 450,
   "id": "9e3ce0d2",
   "metadata": {},
   "outputs": [],
   "source": [
    "sqrts = 200\n",
    "mu=1\n",
    "DY = 0.6\n",
    "Ny=5\n",
    "dy = DY/Ny\n",
    "\n",
    "\n",
    "\n",
    "Y = np.linspace(0.2+dy/2, 0.8-dy/2, Ny)\n",
    "pTs = np.exp(np.linspace(np.log(5),np.log(sqrts/2),30))\n",
    "\n",
    "Q = []\n",
    "G = []\n",
    "for pT in pTs:\n",
    "    Q.append ( \n",
    "        np.sum([np.sum([dsigma_AB2q_pTdpT_dy_dphi(pT, y, pid)  \n",
    "                for pid in [1,2,3,4,5,-1,-2,-3,-4,-5]])*  pT * 2*np.pi\n",
    "        for y in Y])*dy/DY\n",
    "    )\n",
    "\n",
    "    G.append ( \n",
    "        np.sum([dsigma_AB2g_pTdpT_dy_dphi(pT, y)*  pT * 2*np.pi for y in Y])*dy/DY\n",
    "    )"
   ]
  },
  {
   "cell_type": "code",
   "execution_count": 451,
   "id": "0361f669",
   "metadata": {},
   "outputs": [],
   "source": [
    "\n",
    "with open(\"LO/{ss}/pp_mu{scale}_ALICE_y0d3.dat\".format(ss=sqrts, scale=mu),'w') as f:\n",
    "    for ipT,g,q in zip(pTs, G, Q):\n",
    "        f.write((\"{:1.5e}\\t\"*3+'\\n').format(ipT,g,q))\n"
   ]
  },
  {
   "cell_type": "code",
   "execution_count": 432,
   "id": "55ac5c43",
   "metadata": {},
   "outputs": [],
   "source": [
    "pT,g,d,dbar,u,ubar,s,sbar,c,b,gamma = np.loadtxt(\"../../Documents/New-DGLAP/Raa/NLO/pp/pp.all.5.02TeV.y0.SLRMn\"\n",
    "                                                 , skiprows=1).T"
   ]
  },
  {
   "cell_type": "code",
   "execution_count": 433,
   "id": "d1460c18",
   "metadata": {},
   "outputs": [],
   "source": [
    "lnFd = interp1d(np.log(pT), np.log(g), fill_value='extrapolate', bounds_error=False)"
   ]
  },
  {
   "cell_type": "code",
   "execution_count": 434,
   "id": "37df7402",
   "metadata": {},
   "outputs": [
    {
     "data": {
      "text/plain": [
       "3.361649909240202e-10"
      ]
     },
     "execution_count": 434,
     "metadata": {},
     "output_type": "execute_result"
    }
   ],
   "source": [
    "qT = 400\n",
    "np.exp(lnFd(np.log(qT))) * qT* 2*np.pi"
   ]
  },
  {
   "cell_type": "code",
   "execution_count": 435,
   "id": "8bb17c2d",
   "metadata": {},
   "outputs": [
    {
     "data": {
      "text/plain": [
       "1.5886624963729787e-11"
      ]
     },
     "execution_count": 435,
     "metadata": {},
     "output_type": "execute_result"
    }
   ],
   "source": [
    "dsigma_AB2g_pTdpT_dy_dphi(qT, 0)*  qT * 2*np.pi"
   ]
  },
  {
   "cell_type": "code",
   "execution_count": 452,
   "id": "d25c7338",
   "metadata": {},
   "outputs": [
    {
     "data": {
      "text/plain": [
       "0.38811173395282184"
      ]
     },
     "execution_count": 452,
     "metadata": {},
     "output_type": "execute_result"
    }
   ],
   "source": [
    "GeVm2_to_mb"
   ]
  },
  {
   "cell_type": "code",
   "execution_count": null,
   "id": "6b517b1d",
   "metadata": {},
   "outputs": [],
   "source": []
  }
 ],
 "metadata": {
  "kernelspec": {
   "display_name": "Python 3 (ipykernel)",
   "language": "python",
   "name": "python3"
  },
  "language_info": {
   "codemirror_mode": {
    "name": "ipython",
    "version": 3
   },
   "file_extension": ".py",
   "mimetype": "text/x-python",
   "name": "python",
   "nbconvert_exporter": "python",
   "pygments_lexer": "ipython3",
   "version": "3.9.5"
  }
 },
 "nbformat": 4,
 "nbformat_minor": 5
}
